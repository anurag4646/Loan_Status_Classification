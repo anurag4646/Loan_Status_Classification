{
 "cells": [
  {
   "cell_type": "markdown",
   "id": "12b46c9a",
   "metadata": {},
   "source": [
    "### Import libraries"
   ]
  },
  {
   "cell_type": "code",
   "execution_count": 1,
   "id": "277cd127",
   "metadata": {},
   "outputs": [],
   "source": [
    "import pandas as pd \n",
    "import numpy as np"
   ]
  },
  {
   "cell_type": "markdown",
   "id": "46e21674",
   "metadata": {},
   "source": [
    "### Read_Data"
   ]
  },
  {
   "cell_type": "code",
   "execution_count": 2,
   "id": "1f2a8e85",
   "metadata": {},
   "outputs": [],
   "source": [
    "data = pd.read_csv(\"train_indessa.csv\")"
   ]
  },
  {
   "cell_type": "code",
   "execution_count": 3,
   "id": "f05fb225",
   "metadata": {},
   "outputs": [
    {
     "data": {
      "text/html": [
       "<div>\n",
       "<style scoped>\n",
       "    .dataframe tbody tr th:only-of-type {\n",
       "        vertical-align: middle;\n",
       "    }\n",
       "\n",
       "    .dataframe tbody tr th {\n",
       "        vertical-align: top;\n",
       "    }\n",
       "\n",
       "    .dataframe thead th {\n",
       "        text-align: right;\n",
       "    }\n",
       "</style>\n",
       "<table border=\"1\" class=\"dataframe\">\n",
       "  <thead>\n",
       "    <tr style=\"text-align: right;\">\n",
       "      <th></th>\n",
       "      <th>member_id</th>\n",
       "      <th>loan_amnt</th>\n",
       "      <th>funded_amnt</th>\n",
       "      <th>funded_amnt_inv</th>\n",
       "      <th>term</th>\n",
       "      <th>batch_enrolled</th>\n",
       "      <th>int_rate</th>\n",
       "      <th>grade</th>\n",
       "      <th>sub_grade</th>\n",
       "      <th>emp_title</th>\n",
       "      <th>...</th>\n",
       "      <th>collections_12_mths_ex_med</th>\n",
       "      <th>mths_since_last_major_derog</th>\n",
       "      <th>application_type</th>\n",
       "      <th>verification_status_joint</th>\n",
       "      <th>last_week_pay</th>\n",
       "      <th>acc_now_delinq</th>\n",
       "      <th>tot_coll_amt</th>\n",
       "      <th>tot_cur_bal</th>\n",
       "      <th>total_rev_hi_lim</th>\n",
       "      <th>loan_status</th>\n",
       "    </tr>\n",
       "  </thead>\n",
       "  <tbody>\n",
       "    <tr>\n",
       "      <th>0</th>\n",
       "      <td>58189336</td>\n",
       "      <td>14350</td>\n",
       "      <td>14350</td>\n",
       "      <td>14350.0</td>\n",
       "      <td>36 months</td>\n",
       "      <td></td>\n",
       "      <td>19.19</td>\n",
       "      <td>E</td>\n",
       "      <td>E3</td>\n",
       "      <td>clerk</td>\n",
       "      <td>...</td>\n",
       "      <td>0.0</td>\n",
       "      <td>74.0</td>\n",
       "      <td>INDIVIDUAL</td>\n",
       "      <td>NaN</td>\n",
       "      <td>26th week</td>\n",
       "      <td>0.0</td>\n",
       "      <td>0.0</td>\n",
       "      <td>28699.0</td>\n",
       "      <td>30800.0</td>\n",
       "      <td>0</td>\n",
       "    </tr>\n",
       "    <tr>\n",
       "      <th>1</th>\n",
       "      <td>70011223</td>\n",
       "      <td>4800</td>\n",
       "      <td>4800</td>\n",
       "      <td>4800.0</td>\n",
       "      <td>36 months</td>\n",
       "      <td>BAT1586599</td>\n",
       "      <td>10.99</td>\n",
       "      <td>B</td>\n",
       "      <td>B4</td>\n",
       "      <td>Human Resources Specialist</td>\n",
       "      <td>...</td>\n",
       "      <td>0.0</td>\n",
       "      <td>NaN</td>\n",
       "      <td>INDIVIDUAL</td>\n",
       "      <td>NaN</td>\n",
       "      <td>9th week</td>\n",
       "      <td>0.0</td>\n",
       "      <td>0.0</td>\n",
       "      <td>9974.0</td>\n",
       "      <td>32900.0</td>\n",
       "      <td>0</td>\n",
       "    </tr>\n",
       "    <tr>\n",
       "      <th>2</th>\n",
       "      <td>70255675</td>\n",
       "      <td>10000</td>\n",
       "      <td>10000</td>\n",
       "      <td>10000.0</td>\n",
       "      <td>36 months</td>\n",
       "      <td>BAT1586599</td>\n",
       "      <td>7.26</td>\n",
       "      <td>A</td>\n",
       "      <td>A4</td>\n",
       "      <td>Driver</td>\n",
       "      <td>...</td>\n",
       "      <td>0.0</td>\n",
       "      <td>NaN</td>\n",
       "      <td>INDIVIDUAL</td>\n",
       "      <td>NaN</td>\n",
       "      <td>9th week</td>\n",
       "      <td>0.0</td>\n",
       "      <td>65.0</td>\n",
       "      <td>38295.0</td>\n",
       "      <td>34900.0</td>\n",
       "      <td>0</td>\n",
       "    </tr>\n",
       "    <tr>\n",
       "      <th>3</th>\n",
       "      <td>1893936</td>\n",
       "      <td>15000</td>\n",
       "      <td>15000</td>\n",
       "      <td>15000.0</td>\n",
       "      <td>36 months</td>\n",
       "      <td>BAT4808022</td>\n",
       "      <td>19.72</td>\n",
       "      <td>D</td>\n",
       "      <td>D5</td>\n",
       "      <td>Us office of Personnel Management</td>\n",
       "      <td>...</td>\n",
       "      <td>0.0</td>\n",
       "      <td>NaN</td>\n",
       "      <td>INDIVIDUAL</td>\n",
       "      <td>NaN</td>\n",
       "      <td>135th week</td>\n",
       "      <td>0.0</td>\n",
       "      <td>0.0</td>\n",
       "      <td>55564.0</td>\n",
       "      <td>24700.0</td>\n",
       "      <td>0</td>\n",
       "    </tr>\n",
       "    <tr>\n",
       "      <th>4</th>\n",
       "      <td>7652106</td>\n",
       "      <td>16000</td>\n",
       "      <td>16000</td>\n",
       "      <td>16000.0</td>\n",
       "      <td>36 months</td>\n",
       "      <td>BAT2833642</td>\n",
       "      <td>10.64</td>\n",
       "      <td>B</td>\n",
       "      <td>B2</td>\n",
       "      <td>LAUSD-HOLLYWOOD HIGH SCHOOL</td>\n",
       "      <td>...</td>\n",
       "      <td>0.0</td>\n",
       "      <td>NaN</td>\n",
       "      <td>INDIVIDUAL</td>\n",
       "      <td>NaN</td>\n",
       "      <td>96th week</td>\n",
       "      <td>0.0</td>\n",
       "      <td>0.0</td>\n",
       "      <td>47159.0</td>\n",
       "      <td>47033.0</td>\n",
       "      <td>0</td>\n",
       "    </tr>\n",
       "  </tbody>\n",
       "</table>\n",
       "<p>5 rows × 45 columns</p>\n",
       "</div>"
      ],
      "text/plain": [
       "   member_id  loan_amnt  funded_amnt  funded_amnt_inv       term  \\\n",
       "0   58189336      14350        14350          14350.0  36 months   \n",
       "1   70011223       4800         4800           4800.0  36 months   \n",
       "2   70255675      10000        10000          10000.0  36 months   \n",
       "3    1893936      15000        15000          15000.0  36 months   \n",
       "4    7652106      16000        16000          16000.0  36 months   \n",
       "\n",
       "  batch_enrolled  int_rate grade sub_grade                          emp_title  \\\n",
       "0                    19.19     E        E3                              clerk   \n",
       "1     BAT1586599     10.99     B        B4         Human Resources Specialist   \n",
       "2     BAT1586599      7.26     A        A4                             Driver   \n",
       "3     BAT4808022     19.72     D        D5  Us office of Personnel Management   \n",
       "4     BAT2833642     10.64     B        B2        LAUSD-HOLLYWOOD HIGH SCHOOL   \n",
       "\n",
       "   ... collections_12_mths_ex_med mths_since_last_major_derog  \\\n",
       "0  ...                        0.0                        74.0   \n",
       "1  ...                        0.0                         NaN   \n",
       "2  ...                        0.0                         NaN   \n",
       "3  ...                        0.0                         NaN   \n",
       "4  ...                        0.0                         NaN   \n",
       "\n",
       "   application_type verification_status_joint last_week_pay acc_now_delinq  \\\n",
       "0        INDIVIDUAL                       NaN     26th week            0.0   \n",
       "1        INDIVIDUAL                       NaN      9th week            0.0   \n",
       "2        INDIVIDUAL                       NaN      9th week            0.0   \n",
       "3        INDIVIDUAL                       NaN    135th week            0.0   \n",
       "4        INDIVIDUAL                       NaN     96th week            0.0   \n",
       "\n",
       "  tot_coll_amt tot_cur_bal total_rev_hi_lim loan_status  \n",
       "0          0.0     28699.0          30800.0           0  \n",
       "1          0.0      9974.0          32900.0           0  \n",
       "2         65.0     38295.0          34900.0           0  \n",
       "3          0.0     55564.0          24700.0           0  \n",
       "4          0.0     47159.0          47033.0           0  \n",
       "\n",
       "[5 rows x 45 columns]"
      ]
     },
     "execution_count": 3,
     "metadata": {},
     "output_type": "execute_result"
    }
   ],
   "source": [
    "data.head()"
   ]
  },
  {
   "cell_type": "markdown",
   "id": "b501d1b2",
   "metadata": {},
   "source": [
    "### pivoting the table"
   ]
  },
  {
   "cell_type": "code",
   "execution_count": 4,
   "id": "bd7b3cdb",
   "metadata": {},
   "outputs": [],
   "source": [
    "df_tab=pd.DataFrame(data.describe(include='all')).stack().unstack(0)"
   ]
  },
  {
   "cell_type": "markdown",
   "id": "ff882719",
   "metadata": {},
   "source": [
    "### Univariate "
   ]
  },
  {
   "cell_type": "code",
   "execution_count": 5,
   "id": "57504235",
   "metadata": {},
   "outputs": [],
   "source": [
    "try:\n",
    "    df_tab['cnt_null'] = data.apply(lambda col: col.isnull().sum())\n",
    "    df_tab['null_%'] = df_tab.apply(lambda row: round((row['cnt_null']/(row['cnt_null']+row['count']))*100,2), axis=1)\n",
    "    df_tab['cnt_unique']=data.apply(lambda col: len(col.unique().tolist()))\n",
    "    df_tab['cnt_zeros'] = data.isin([0]).sum(axis=0)\n",
    "    df_tab['cnt_zero_and_null'] = df_tab['cnt_null']+df_tab['cnt_zeros']\n",
    "    df_tab['zero_null_%'] = df_tab['cnt_zero_and_null']*100 / data.shape[0]\n",
    "    df_tab['Data_Type'] = data.dtypes\n",
    "    df_tab['variance']=data.var(axis=0)\n",
    "    df_tab['mode'] = data.mode().iloc[0,:]\n",
    "    df_tab['1%'] = data.quantile(0.01)\n",
    "    df_tab['5%'] = data.quantile(0.05)\n",
    "    df_tab['95%'] = data.quantile(0.95)\n",
    "    df_tab['99%'] = data.quantile(0.99)\n",
    "except TypeError:\n",
    "    pass\n",
    "df_tab.rename(columns={'50%':'median'},inplace=True)\n",
    "df_tab.rename(columns={'count':'cnt_non_null'},inplace=True)"
   ]
  },
  {
   "cell_type": "code",
   "execution_count": 6,
   "id": "8dbb81a7",
   "metadata": {},
   "outputs": [
    {
     "name": "stdout",
     "output_type": "stream",
     "text": [
      "Index(['cnt_non_null', 'unique', 'top', 'freq', 'mean', 'std', 'min', '25%',\n",
      "       'median', '75%', 'max', 'cnt_null', 'null_%', 'cnt_unique', 'cnt_zeros',\n",
      "       'cnt_zero_and_null', 'zero_null_%', 'Data_Type', 'variance', 'mode',\n",
      "       '1%', '5%', '95%', '99%'],\n",
      "      dtype='object')\n"
     ]
    }
   ],
   "source": [
    "#display the result\n",
    "print(df_tab.columns)\n",
    "df_tab=df_tab[df_tab.columns.difference(['unique','top','freq'])]"
   ]
  },
  {
   "cell_type": "code",
   "execution_count": 7,
   "id": "bccbe0ad",
   "metadata": {},
   "outputs": [],
   "source": [
    "df_tab=df_tab[['Data_Type','cnt_non_null','cnt_null','null_%','cnt_unique','cnt_zeros','cnt_zero_and_null','zero_null_%','mean','std','min','1%','5%','25%','median','75%','95%','99%','max','variance','mode']]"
   ]
  },
  {
   "cell_type": "markdown",
   "id": "630daaed",
   "metadata": {},
   "source": [
    "### Save Univariate result "
   ]
  },
  {
   "cell_type": "code",
   "execution_count": 8,
   "id": "ab6901a1",
   "metadata": {},
   "outputs": [],
   "source": [
    "df_tab.reset_index(inplace = True)"
   ]
  },
  {
   "cell_type": "code",
   "execution_count": 9,
   "id": "2866a40a",
   "metadata": {},
   "outputs": [],
   "source": [
    "df_tab.to_excel(\"Univariate_train_indessa.xlsx\", index = False)"
   ]
  },
  {
   "cell_type": "code",
   "execution_count": null,
   "id": "a597dd75",
   "metadata": {},
   "outputs": [],
   "source": []
  }
 ],
 "metadata": {
  "kernelspec": {
   "display_name": "Python 3",
   "language": "python",
   "name": "python3"
  },
  "language_info": {
   "codemirror_mode": {
    "name": "ipython",
    "version": 3
   },
   "file_extension": ".py",
   "mimetype": "text/x-python",
   "name": "python",
   "nbconvert_exporter": "python",
   "pygments_lexer": "ipython3",
   "version": "3.8.7"
  }
 },
 "nbformat": 4,
 "nbformat_minor": 5
}
